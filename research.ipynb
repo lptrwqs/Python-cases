{
 "cells": [
  {
   "cell_type": "code",
   "execution_count": 81,
   "metadata": {},
   "outputs": [
    {
     "name": "stdout",
     "output_type": "stream",
     "text": [
      "Requirement already satisfied: seaborn in c:\\users\\vkoma\\anaconda3\\lib\\site-packages (0.11.2)\n",
      "Requirement already satisfied: numpy>=1.15 in c:\\users\\vkoma\\anaconda3\\lib\\site-packages (from seaborn) (1.21.5)\n",
      "Requirement already satisfied: scipy>=1.0 in c:\\users\\vkoma\\anaconda3\\lib\\site-packages (from seaborn) (1.7.3)\n",
      "Requirement already satisfied: matplotlib>=2.2 in c:\\users\\vkoma\\anaconda3\\lib\\site-packages (from seaborn) (3.5.1)\n",
      "Requirement already satisfied: pandas>=0.23 in c:\\users\\vkoma\\anaconda3\\lib\\site-packages (from seaborn) (1.4.2)\n",
      "Requirement already satisfied: kiwisolver>=1.0.1 in c:\\users\\vkoma\\anaconda3\\lib\\site-packages (from matplotlib>=2.2->seaborn) (1.3.2)\n",
      "Requirement already satisfied: cycler>=0.10 in c:\\users\\vkoma\\anaconda3\\lib\\site-packages (from matplotlib>=2.2->seaborn) (0.11.0)\n",
      "Requirement already satisfied: fonttools>=4.22.0 in c:\\users\\vkoma\\anaconda3\\lib\\site-packages (from matplotlib>=2.2->seaborn) (4.25.0)\n",
      "Requirement already satisfied: packaging>=20.0 in c:\\users\\vkoma\\anaconda3\\lib\\site-packages (from matplotlib>=2.2->seaborn) (21.3)\n",
      "Requirement already satisfied: pillow>=6.2.0 in c:\\users\\vkoma\\anaconda3\\lib\\site-packages (from matplotlib>=2.2->seaborn) (9.0.1)\n",
      "Requirement already satisfied: python-dateutil>=2.7 in c:\\users\\vkoma\\anaconda3\\lib\\site-packages (from matplotlib>=2.2->seaborn) (2.8.2)\n",
      "Requirement already satisfied: pyparsing>=2.2.1 in c:\\users\\vkoma\\anaconda3\\lib\\site-packages (from matplotlib>=2.2->seaborn) (3.0.4)\n",
      "Requirement already satisfied: pytz>=2020.1 in c:\\users\\vkoma\\anaconda3\\lib\\site-packages (from pandas>=0.23->seaborn) (2021.3)\n",
      "Requirement already satisfied: six>=1.5 in c:\\users\\vkoma\\anaconda3\\lib\\site-packages (from python-dateutil>=2.7->matplotlib>=2.2->seaborn) (1.16.0)\n"
     ]
    }
   ],
   "source": [
    "!pip install seaborn --upgrade\n",
    "from scipy.stats import norm\n",
    "import numpy as np\n",
    "import matplotlib.pyplot as plt\n",
    "import seaborn as sns\n",
    "import pandas as pd\n",
    "from scipy.stats import ttest_ind, mannwhitneyu\n",
    "\n",
    "from scipy import stats"
   ]
  },
  {
   "cell_type": "code",
   "execution_count": 40,
   "metadata": {},
   "outputs": [],
   "source": [
    "def statistical_analysis(r, q=[0.1,0.25,0.3,0.4,0.5,0.6,0.75,0.9]):\n",
    "    \n",
    "    if (type(r) is not list) & (type(r) is not tuple):\n",
    "        print(\"Нужен список или кортеж\")\n",
    "        return\n",
    "    \n",
    "    if len(r)<=4:\n",
    "        print(\"Need a longer row!\")\n",
    "        return\n",
    "    \n",
    "    r = pd.Series(r)\n",
    "    \n",
    "    m = r.mean()\n",
    "    v = r.var()\n",
    "    s = r.std()\n",
    "    \n",
    "    print(\"Среднее ряда = \", m)\n",
    "    print(\"Дисперсия ряда = \", v)\n",
    "    print(\"Стандартное отклонение ряда = \", s)\n",
    "    print()\n",
    "    \n",
    "    qs = np.quantile(r, q)\n",
    "\n",
    "    for i in range(len(q)):\n",
    "        if q[i]==0.5:\n",
    "            print(\"Mediane = \", qs[i])\n",
    "        elif q[i]==0.25:\n",
    "            print(\"First quartile = \", qs[i])\n",
    "        elif q[i]*100 % 10==0:\n",
    "            print(\"Decile number\", q[i]*10, \" = \", qs[i])\n",
    "        else:\n",
    "            print(\"Quantile \", q[i], \" = \", qs[i])\n",
    "        \n",
    "    sns.distplot(r)\n",
    "\n",
    "    return m, v, s, qs"
   ]
  },
  {
   "cell_type": "code",
   "execution_count": 116,
   "metadata": {},
   "outputs": [],
   "source": [
    "def test_calc(r1, r2, alpha = 0.05):\n",
    "    \n",
    "    s,p = ttest_ind(r1,r2)\n",
    "    \n",
    "    if p < alpha:\n",
    "        print(\"Гиптоеза Н0 не подтверждается: средние не равны\")\n",
    "        print(\"Разница средних = \", r1.mean()-r2.mean())\n",
    "    else:\n",
    "        print(\"Гипотеза Н0 подтверждается: средние равны\")\n",
    "        print(\"Разница средних = 0\")\n",
    "        \n",
    "    return s, p\n"
   ]
  },
  {
   "cell_type": "code",
   "execution_count": 103,
   "metadata": {},
   "outputs": [],
   "source": [
    "def mann_whitney_func(r1, r2, alpha=0.5):\n",
    "    \n",
    "    s, p = mannwhitneyu(r1, r2)\n",
    "    \n",
    "    if p < alpha:\n",
    "        print(\"Распределения не равны\")\n",
    "    else:\n",
    "        print(\"Распределения равны\")\n",
    "        \n",
    "    return s, p"
   ]
  },
  {
   "cell_type": "markdown",
   "metadata": {},
   "source": [
    "Вторая часть курсовой работы"
   ]
  },
  {
   "cell_type": "code",
   "execution_count": 43,
   "metadata": {},
   "outputs": [],
   "source": [
    "df = pd.read_csv(r'C:\\Users\\vkoma\\Downloads\\Dataset_AB_TEST.csv', sep=';')"
   ]
  },
  {
   "cell_type": "code",
   "execution_count": 44,
   "metadata": {},
   "outputs": [
    {
     "data": {
      "text/html": [
       "<div>\n",
       "<style scoped>\n",
       "    .dataframe tbody tr th:only-of-type {\n",
       "        vertical-align: middle;\n",
       "    }\n",
       "\n",
       "    .dataframe tbody tr th {\n",
       "        vertical-align: top;\n",
       "    }\n",
       "\n",
       "    .dataframe thead th {\n",
       "        text-align: right;\n",
       "    }\n",
       "</style>\n",
       "<table border=\"1\" class=\"dataframe\">\n",
       "  <thead>\n",
       "    <tr style=\"text-align: right;\">\n",
       "      <th></th>\n",
       "      <th>id_client</th>\n",
       "      <th>id_group</th>\n",
       "      <th>sum_pay</th>\n",
       "      <th>id_point</th>\n",
       "      <th>months_reg</th>\n",
       "    </tr>\n",
       "  </thead>\n",
       "  <tbody>\n",
       "    <tr>\n",
       "      <th>0</th>\n",
       "      <td>1420218</td>\n",
       "      <td>test</td>\n",
       "      <td>3288.0</td>\n",
       "      <td>1199.0</td>\n",
       "      <td>8</td>\n",
       "    </tr>\n",
       "    <tr>\n",
       "      <th>1</th>\n",
       "      <td>1390221</td>\n",
       "      <td>control</td>\n",
       "      <td>1267.0</td>\n",
       "      <td>1182.0</td>\n",
       "      <td>11</td>\n",
       "    </tr>\n",
       "    <tr>\n",
       "      <th>2</th>\n",
       "      <td>1363404</td>\n",
       "      <td>control</td>\n",
       "      <td>4259.0</td>\n",
       "      <td>1178.0</td>\n",
       "      <td>2</td>\n",
       "    </tr>\n",
       "    <tr>\n",
       "      <th>3</th>\n",
       "      <td>1370042</td>\n",
       "      <td>test</td>\n",
       "      <td>7211.0</td>\n",
       "      <td>1179.0</td>\n",
       "      <td>3</td>\n",
       "    </tr>\n",
       "    <tr>\n",
       "      <th>4</th>\n",
       "      <td>1360376</td>\n",
       "      <td>control</td>\n",
       "      <td>760.0</td>\n",
       "      <td>1178.0</td>\n",
       "      <td>14</td>\n",
       "    </tr>\n",
       "  </tbody>\n",
       "</table>\n",
       "</div>"
      ],
      "text/plain": [
       "   id_client id_group  sum_pay  id_point  months_reg\n",
       "0    1420218     test   3288.0    1199.0           8\n",
       "1    1390221  control   1267.0    1182.0          11\n",
       "2    1363404  control   4259.0    1178.0           2\n",
       "3    1370042     test   7211.0    1179.0           3\n",
       "4    1360376  control    760.0    1178.0          14"
      ]
     },
     "execution_count": 44,
     "metadata": {},
     "output_type": "execute_result"
    }
   ],
   "source": [
    "df.head()"
   ]
  },
  {
   "cell_type": "code",
   "execution_count": 45,
   "metadata": {},
   "outputs": [
    {
     "data": {
      "text/html": [
       "<div>\n",
       "<style scoped>\n",
       "    .dataframe tbody tr th:only-of-type {\n",
       "        vertical-align: middle;\n",
       "    }\n",
       "\n",
       "    .dataframe tbody tr th {\n",
       "        vertical-align: top;\n",
       "    }\n",
       "\n",
       "    .dataframe thead th {\n",
       "        text-align: right;\n",
       "    }\n",
       "</style>\n",
       "<table border=\"1\" class=\"dataframe\">\n",
       "  <thead>\n",
       "    <tr style=\"text-align: right;\">\n",
       "      <th></th>\n",
       "      <th>id_client</th>\n",
       "      <th>sum_pay</th>\n",
       "      <th>id_point</th>\n",
       "      <th>months_reg</th>\n",
       "    </tr>\n",
       "  </thead>\n",
       "  <tbody>\n",
       "    <tr>\n",
       "      <th>count</th>\n",
       "      <td>1.097600e+04</td>\n",
       "      <td>10849.000000</td>\n",
       "      <td>10895.000000</td>\n",
       "      <td>10976.000000</td>\n",
       "    </tr>\n",
       "    <tr>\n",
       "      <th>mean</th>\n",
       "      <td>1.373018e+06</td>\n",
       "      <td>3568.751037</td>\n",
       "      <td>1180.040385</td>\n",
       "      <td>4.717566</td>\n",
       "    </tr>\n",
       "    <tr>\n",
       "      <th>std</th>\n",
       "      <td>1.477359e+04</td>\n",
       "      <td>2927.164583</td>\n",
       "      <td>4.345107</td>\n",
       "      <td>3.185566</td>\n",
       "    </tr>\n",
       "    <tr>\n",
       "      <th>min</th>\n",
       "      <td>1.359000e+06</td>\n",
       "      <td>59.000000</td>\n",
       "      <td>1178.000000</td>\n",
       "      <td>0.000000</td>\n",
       "    </tr>\n",
       "    <tr>\n",
       "      <th>25%</th>\n",
       "      <td>1.361744e+06</td>\n",
       "      <td>1251.000000</td>\n",
       "      <td>1178.000000</td>\n",
       "      <td>2.000000</td>\n",
       "    </tr>\n",
       "    <tr>\n",
       "      <th>50%</th>\n",
       "      <td>1.370690e+06</td>\n",
       "      <td>3173.000000</td>\n",
       "      <td>1179.000000</td>\n",
       "      <td>4.000000</td>\n",
       "    </tr>\n",
       "    <tr>\n",
       "      <th>75%</th>\n",
       "      <td>1.373433e+06</td>\n",
       "      <td>5358.000000</td>\n",
       "      <td>1179.000000</td>\n",
       "      <td>7.000000</td>\n",
       "    </tr>\n",
       "    <tr>\n",
       "      <th>max</th>\n",
       "      <td>1.420345e+06</td>\n",
       "      <td>24797.000000</td>\n",
       "      <td>1199.000000</td>\n",
       "      <td>14.000000</td>\n",
       "    </tr>\n",
       "  </tbody>\n",
       "</table>\n",
       "</div>"
      ],
      "text/plain": [
       "          id_client       sum_pay      id_point    months_reg\n",
       "count  1.097600e+04  10849.000000  10895.000000  10976.000000\n",
       "mean   1.373018e+06   3568.751037   1180.040385      4.717566\n",
       "std    1.477359e+04   2927.164583      4.345107      3.185566\n",
       "min    1.359000e+06     59.000000   1178.000000      0.000000\n",
       "25%    1.361744e+06   1251.000000   1178.000000      2.000000\n",
       "50%    1.370690e+06   3173.000000   1179.000000      4.000000\n",
       "75%    1.373433e+06   5358.000000   1179.000000      7.000000\n",
       "max    1.420345e+06  24797.000000   1199.000000     14.000000"
      ]
     },
     "execution_count": 45,
     "metadata": {},
     "output_type": "execute_result"
    }
   ],
   "source": [
    "df.describe()"
   ]
  },
  {
   "cell_type": "code",
   "execution_count": 46,
   "metadata": {},
   "outputs": [
    {
     "data": {
      "text/html": [
       "<div>\n",
       "<style scoped>\n",
       "    .dataframe tbody tr th:only-of-type {\n",
       "        vertical-align: middle;\n",
       "    }\n",
       "\n",
       "    .dataframe tbody tr th {\n",
       "        vertical-align: top;\n",
       "    }\n",
       "\n",
       "    .dataframe thead th {\n",
       "        text-align: right;\n",
       "    }\n",
       "</style>\n",
       "<table border=\"1\" class=\"dataframe\">\n",
       "  <thead>\n",
       "    <tr style=\"text-align: right;\">\n",
       "      <th></th>\n",
       "      <th>id_client</th>\n",
       "      <th>sum_pay</th>\n",
       "      <th>id_point</th>\n",
       "      <th>months_reg</th>\n",
       "    </tr>\n",
       "    <tr>\n",
       "      <th>id_group</th>\n",
       "      <th></th>\n",
       "      <th></th>\n",
       "      <th></th>\n",
       "      <th></th>\n",
       "    </tr>\n",
       "  </thead>\n",
       "  <tbody>\n",
       "    <tr>\n",
       "      <th>control</th>\n",
       "      <td>5202</td>\n",
       "      <td>5175</td>\n",
       "      <td>5198</td>\n",
       "      <td>5202</td>\n",
       "    </tr>\n",
       "    <tr>\n",
       "      <th>test</th>\n",
       "      <td>5700</td>\n",
       "      <td>5673</td>\n",
       "      <td>5696</td>\n",
       "      <td>5700</td>\n",
       "    </tr>\n",
       "  </tbody>\n",
       "</table>\n",
       "</div>"
      ],
      "text/plain": [
       "          id_client  sum_pay  id_point  months_reg\n",
       "id_group                                          \n",
       "control        5202     5175      5198        5202\n",
       "test           5700     5673      5696        5700"
      ]
     },
     "execution_count": 46,
     "metadata": {},
     "output_type": "execute_result"
    }
   ],
   "source": [
    "df.groupby('id_group').count()"
   ]
  },
  {
   "cell_type": "code",
   "execution_count": 47,
   "metadata": {},
   "outputs": [
    {
     "data": {
      "text/plain": [
       "74"
      ]
     },
     "execution_count": 47,
     "metadata": {},
     "output_type": "execute_result"
    }
   ],
   "source": [
    "len(df[df['id_group'].isnull()])"
   ]
  },
  {
   "cell_type": "code",
   "execution_count": 48,
   "metadata": {},
   "outputs": [
    {
     "data": {
      "text/plain": [
       "81"
      ]
     },
     "execution_count": 48,
     "metadata": {},
     "output_type": "execute_result"
    }
   ],
   "source": [
    "len(df[df['id_point'].isnull()])"
   ]
  },
  {
   "cell_type": "code",
   "execution_count": 49,
   "metadata": {},
   "outputs": [],
   "source": [
    "df = df[(~df['id_group'].isnull())&(~df['sum_pay'].isnull())&(~df['id_point'].isnull())]\n"
   ]
  },
  {
   "cell_type": "code",
   "execution_count": 50,
   "metadata": {},
   "outputs": [
    {
     "name": "stdout",
     "output_type": "stream",
     "text": [
      "Среднее ряда =  3568.7580258302582\n",
      "Дисперсия ряда =  8568932.941996625\n",
      "Стандартное отклонение ряда =  2927.27397795229\n",
      "\n",
      "Decile number 1.0  =  410.0\n",
      "First quartile =  1250.75\n",
      "Decile number 3.0  =  1590.0\n",
      "Decile number 4.0  =  2329.6000000000004\n",
      "Mediane =  3173.5\n",
      "Decile number 6.0  =  3934.0\n",
      "Quantile  0.75  =  5356.5\n",
      "Decile number 9.0  =  7088.200000000001\n",
      "Quantile  0.95  =  7805.0999999999985\n",
      "Quantile  0.96  =  8041.0\n",
      "Quantile  0.97  =  8453.64\n",
      "Quantile  0.98  =  9043.659999999998\n",
      "Quantile  0.99  =  9809.76000000001\n",
      "Quantile  0.995  =  21046.075000000004\n"
     ]
    },
    {
     "name": "stderr",
     "output_type": "stream",
     "text": [
      "C:\\Users\\vkoma\\anaconda3\\lib\\site-packages\\seaborn\\distributions.py:2619: FutureWarning: `distplot` is a deprecated function and will be removed in a future version. Please adapt your code to use either `displot` (a figure-level function with similar flexibility) or `histplot` (an axes-level function for histograms).\n",
      "  warnings.warn(msg, FutureWarning)\n"
     ]
    },
    {
     "data": {
      "text/plain": [
       "(3568.7580258302582,\n",
       " 8568932.941996625,\n",
       " 2927.27397795229,\n",
       " array([  410.   ,  1250.75 ,  1590.   ,  2329.6  ,  3173.5  ,  3934.   ,\n",
       "         5356.5  ,  7088.2  ,  7805.1  ,  8041.   ,  8453.64 ,  9043.66 ,\n",
       "         9809.76 , 21046.075]))"
      ]
     },
     "execution_count": 50,
     "metadata": {},
     "output_type": "execute_result"
    },
    {
     "data": {
      "image/png": "[encoded data removed]",
      "text/plain": [
       "<Figure size 842.4x595.44 with 1 Axes>"
      ]
     },
     "metadata": {},
     "output_type": "display_data"
    }
   ],
   "source": [
    "statistical_analysis(tuple(df['sum_pay']), q=[.1,.25,.3,.4,.5,.6,.75,.9,.95,.96,.97,.98,.99,.995])"
   ]
  },
  {
   "cell_type": "code",
   "execution_count": 51,
   "metadata": {},
   "outputs": [],
   "source": [
    "df = df[df['sum_pay']<20000] #обрежем хвост, который дает \"смещенный\" результат."
   ]
  },
  {
   "cell_type": "code",
   "execution_count": 52,
   "metadata": {},
   "outputs": [],
   "source": [
    "df_A = df[df['id_group']=='control']\n",
    "df_B = df[df['id_group']=='test']"
   ]
  },
  {
   "cell_type": "code",
   "execution_count": 53,
   "metadata": {},
   "outputs": [],
   "source": [
    "def show_dist(r1, r2, graph_title, xlabel='Размер платежа', ylabel='Кол-во людей'):\n",
    "    sns.set(rc={'figure.figsize':(11.7,8.27)})\n",
    "    ax1 = sns.distplot(r1, color='purple')\n",
    "    ax2 = sns.distplot(r2, color='blue')\n",
    "    ax1.set(xlabel=xlabel, ylabel=ylabel)\n",
    "    plt.title(graph_title)\n",
    "    plt.show()"
   ]
  },
  {
   "cell_type": "code",
   "execution_count": 54,
   "metadata": {},
   "outputs": [
    {
     "name": "stderr",
     "output_type": "stream",
     "text": [
      "C:\\Users\\vkoma\\anaconda3\\lib\\site-packages\\seaborn\\distributions.py:2619: FutureWarning: `distplot` is a deprecated function and will be removed in a future version. Please adapt your code to use either `displot` (a figure-level function with similar flexibility) or `histplot` (an axes-level function for histograms).\n",
      "  warnings.warn(msg, FutureWarning)\n",
      "C:\\Users\\vkoma\\anaconda3\\lib\\site-packages\\seaborn\\distributions.py:2619: FutureWarning: `distplot` is a deprecated function and will be removed in a future version. Please adapt your code to use either `displot` (a figure-level function with similar flexibility) or `histplot` (an axes-level function for histograms).\n",
      "  warnings.warn(msg, FutureWarning)\n"
     ]
    },
    {
     "data": {
      "image/png": "[encoded data removed]",
      "text/plain": [
       "<Figure size 842.4x595.44 with 1 Axes>"
      ]
     },
     "metadata": {},
     "output_type": "display_data"
    }
   ],
   "source": [
    "show_dist(df_A['sum_pay'], df_B['sum_pay'], 'Общие результаты А/В теста')"
   ]
  },
  {
   "cell_type": "code",
   "execution_count": 55,
   "metadata": {},
   "outputs": [
    {
     "name": "stdout",
     "output_type": "stream",
     "text": [
      "Распределения не равны\n"
     ]
    },
    {
     "data": {
      "text/plain": [
       "(14141330.5, 0.05842125879702285)"
      ]
     },
     "execution_count": 55,
     "metadata": {},
     "output_type": "execute_result"
    }
   ],
   "source": [
    "mann_whitney_func(df_A['sum_pay'], df_B['sum_pay'])"
   ]
  },
  {
   "cell_type": "code",
   "execution_count": 119,
   "metadata": {},
   "outputs": [
    {
     "name": "stdout",
     "output_type": "stream",
     "text": [
      "Гиптоеза Н0 не подтверждается: средние не равны\n",
      "Разница средних =  -175.82591504758784\n"
     ]
    },
    {
     "data": {
      "text/plain": [
       "(-3.7141912292177888, 0.0002048855494553075)"
      ]
     },
     "execution_count": 119,
     "metadata": {},
     "output_type": "execute_result"
    }
   ],
   "source": [
    "test_calc(df_A['sum_pay'], df_B['sum_pay'])"
   ]
  },
  {
   "cell_type": "code",
   "execution_count": 74,
   "metadata": {},
   "outputs": [
    {
     "data": {
      "text/html": [
       "<div>\n",
       "<style scoped>\n",
       "    .dataframe tbody tr th:only-of-type {\n",
       "        vertical-align: middle;\n",
       "    }\n",
       "\n",
       "    .dataframe tbody tr th {\n",
       "        vertical-align: top;\n",
       "    }\n",
       "\n",
       "    .dataframe thead th {\n",
       "        text-align: right;\n",
       "    }\n",
       "</style>\n",
       "<table border=\"1\" class=\"dataframe\">\n",
       "  <thead>\n",
       "    <tr style=\"text-align: right;\">\n",
       "      <th></th>\n",
       "      <th>id_client</th>\n",
       "      <th>id_group</th>\n",
       "      <th>sum_pay</th>\n",
       "      <th>id_point</th>\n",
       "      <th>months_reg</th>\n",
       "    </tr>\n",
       "  </thead>\n",
       "  <tbody>\n",
       "    <tr>\n",
       "      <th>0</th>\n",
       "      <td>1420218</td>\n",
       "      <td>test</td>\n",
       "      <td>3288.0</td>\n",
       "      <td>1199.0</td>\n",
       "      <td>8</td>\n",
       "    </tr>\n",
       "    <tr>\n",
       "      <th>1</th>\n",
       "      <td>1390221</td>\n",
       "      <td>control</td>\n",
       "      <td>1267.0</td>\n",
       "      <td>1182.0</td>\n",
       "      <td>11</td>\n",
       "    </tr>\n",
       "    <tr>\n",
       "      <th>2</th>\n",
       "      <td>1363404</td>\n",
       "      <td>control</td>\n",
       "      <td>4259.0</td>\n",
       "      <td>1178.0</td>\n",
       "      <td>2</td>\n",
       "    </tr>\n",
       "    <tr>\n",
       "      <th>3</th>\n",
       "      <td>1370042</td>\n",
       "      <td>test</td>\n",
       "      <td>7211.0</td>\n",
       "      <td>1179.0</td>\n",
       "      <td>3</td>\n",
       "    </tr>\n",
       "    <tr>\n",
       "      <th>4</th>\n",
       "      <td>1360376</td>\n",
       "      <td>control</td>\n",
       "      <td>760.0</td>\n",
       "      <td>1178.0</td>\n",
       "      <td>14</td>\n",
       "    </tr>\n",
       "    <tr>\n",
       "      <th>...</th>\n",
       "      <td>...</td>\n",
       "      <td>...</td>\n",
       "      <td>...</td>\n",
       "      <td>...</td>\n",
       "      <td>...</td>\n",
       "    </tr>\n",
       "    <tr>\n",
       "      <th>10971</th>\n",
       "      <td>1359021</td>\n",
       "      <td>control</td>\n",
       "      <td>799.0</td>\n",
       "      <td>1178.0</td>\n",
       "      <td>3</td>\n",
       "    </tr>\n",
       "    <tr>\n",
       "      <th>10972</th>\n",
       "      <td>1363347</td>\n",
       "      <td>control</td>\n",
       "      <td>4825.0</td>\n",
       "      <td>1178.0</td>\n",
       "      <td>6</td>\n",
       "    </tr>\n",
       "    <tr>\n",
       "      <th>10973</th>\n",
       "      <td>1373031</td>\n",
       "      <td>test</td>\n",
       "      <td>673.0</td>\n",
       "      <td>1179.0</td>\n",
       "      <td>1</td>\n",
       "    </tr>\n",
       "    <tr>\n",
       "      <th>10974</th>\n",
       "      <td>1370292</td>\n",
       "      <td>test</td>\n",
       "      <td>1120.0</td>\n",
       "      <td>1179.0</td>\n",
       "      <td>1</td>\n",
       "    </tr>\n",
       "    <tr>\n",
       "      <th>10975</th>\n",
       "      <td>1370038</td>\n",
       "      <td>test</td>\n",
       "      <td>5348.0</td>\n",
       "      <td>1179.0</td>\n",
       "      <td>8</td>\n",
       "    </tr>\n",
       "  </tbody>\n",
       "</table>\n",
       "<p>10761 rows × 5 columns</p>\n",
       "</div>"
      ],
      "text/plain": [
       "       id_client id_group  sum_pay  id_point  months_reg\n",
       "0        1420218     test   3288.0    1199.0           8\n",
       "1        1390221  control   1267.0    1182.0          11\n",
       "2        1363404  control   4259.0    1178.0           2\n",
       "3        1370042     test   7211.0    1179.0           3\n",
       "4        1360376  control    760.0    1178.0          14\n",
       "...          ...      ...      ...       ...         ...\n",
       "10971    1359021  control    799.0    1178.0           3\n",
       "10972    1363347  control   4825.0    1178.0           6\n",
       "10973    1373031     test    673.0    1179.0           1\n",
       "10974    1370292     test   1120.0    1179.0           1\n",
       "10975    1370038     test   5348.0    1179.0           8\n",
       "\n",
       "[10761 rows x 5 columns]"
      ]
     },
     "execution_count": 74,
     "metadata": {},
     "output_type": "execute_result"
    }
   ],
   "source": [
    "df"
   ]
  },
  {
   "cell_type": "code",
   "execution_count": null,
   "metadata": {},
   "outputs": [],
   "source": [
    "Оценим наши выборки по сегментам( точкам) и отсеим неподходящее."
   ]
  },
  {
   "cell_type": "code",
   "execution_count": 72,
   "metadata": {},
   "outputs": [
    {
     "data": {
      "image/png": "[encoded data removed]",
      "text/plain": [
       "<Figure size 1080x504 with 1 Axes>"
      ]
     },
     "metadata": {},
     "output_type": "display_data"
    },
    {
     "data": {
      "text/html": [
       "<div>\n",
       "<style scoped>\n",
       "    .dataframe tbody tr th:only-of-type {\n",
       "        vertical-align: middle;\n",
       "    }\n",
       "\n",
       "    .dataframe tbody tr th {\n",
       "        vertical-align: top;\n",
       "    }\n",
       "\n",
       "    .dataframe thead th {\n",
       "        text-align: right;\n",
       "    }\n",
       "</style>\n",
       "<table border=\"1\" class=\"dataframe\">\n",
       "  <thead>\n",
       "    <tr style=\"text-align: right;\">\n",
       "      <th></th>\n",
       "      <th>id_group</th>\n",
       "      <th>id_point</th>\n",
       "      <th>id_client</th>\n",
       "    </tr>\n",
       "  </thead>\n",
       "  <tbody>\n",
       "    <tr>\n",
       "      <th>0</th>\n",
       "      <td>control</td>\n",
       "      <td>1178.0</td>\n",
       "      <td>2403</td>\n",
       "    </tr>\n",
       "    <tr>\n",
       "      <th>5</th>\n",
       "      <td>test</td>\n",
       "      <td>1178.0</td>\n",
       "      <td>2406</td>\n",
       "    </tr>\n",
       "    <tr>\n",
       "      <th>1</th>\n",
       "      <td>control</td>\n",
       "      <td>1179.0</td>\n",
       "      <td>1697</td>\n",
       "    </tr>\n",
       "    <tr>\n",
       "      <th>6</th>\n",
       "      <td>test</td>\n",
       "      <td>1179.0</td>\n",
       "      <td>1745</td>\n",
       "    </tr>\n",
       "    <tr>\n",
       "      <th>2</th>\n",
       "      <td>control</td>\n",
       "      <td>1182.0</td>\n",
       "      <td>1012</td>\n",
       "    </tr>\n",
       "    <tr>\n",
       "      <th>7</th>\n",
       "      <td>test</td>\n",
       "      <td>1182.0</td>\n",
       "      <td>950</td>\n",
       "    </tr>\n",
       "    <tr>\n",
       "      <th>3</th>\n",
       "      <td>control</td>\n",
       "      <td>1186.0</td>\n",
       "      <td>23</td>\n",
       "    </tr>\n",
       "    <tr>\n",
       "      <th>8</th>\n",
       "      <td>test</td>\n",
       "      <td>1186.0</td>\n",
       "      <td>40</td>\n",
       "    </tr>\n",
       "    <tr>\n",
       "      <th>4</th>\n",
       "      <td>control</td>\n",
       "      <td>1188.0</td>\n",
       "      <td>5</td>\n",
       "    </tr>\n",
       "    <tr>\n",
       "      <th>9</th>\n",
       "      <td>test</td>\n",
       "      <td>1188.0</td>\n",
       "      <td>4</td>\n",
       "    </tr>\n",
       "    <tr>\n",
       "      <th>10</th>\n",
       "      <td>test</td>\n",
       "      <td>1199.0</td>\n",
       "      <td>476</td>\n",
       "    </tr>\n",
       "  </tbody>\n",
       "</table>\n",
       "</div>"
      ],
      "text/plain": [
       "   id_group  id_point  id_client\n",
       "0   control    1178.0       2403\n",
       "5      test    1178.0       2406\n",
       "1   control    1179.0       1697\n",
       "6      test    1179.0       1745\n",
       "2   control    1182.0       1012\n",
       "7      test    1182.0        950\n",
       "3   control    1186.0         23\n",
       "8      test    1186.0         40\n",
       "4   control    1188.0          5\n",
       "9      test    1188.0          4\n",
       "10     test    1199.0        476"
      ]
     },
     "execution_count": 72,
     "metadata": {},
     "output_type": "execute_result"
    }
   ],
   "source": [
    "df_1=df.groupby(by=['id_group', 'id_point'])['id_client'].count().reset_index()\n",
    "plt.figure(figsize=(15,7))\n",
    "sns.barplot(x='id_point', y='id_client', hue='id_group', data=df_1)\n",
    "plt.legend()\n",
    "plt.show()\n",
    "df_1.sort_values(by='id_point')"
   ]
  },
  {
   "cell_type": "raw",
   "metadata": {},
   "source": [
    "Оценив распределения с помощью группровки, мы пришли к выводу, что 1188,0 и 1186,0 являются незначительными для оценки(недостаточно наблюдений). \n",
    "В сегменте 1199,0 у нас отсутсвуют наблюдения для по контрольной группы. Производить оценку для этого сегмента тоже ялвяется нецелесообразным. \n"
   ]
  },
  {
   "cell_type": "markdown",
   "metadata": {},
   "source": [
    "# Далее проведем t тест для выбранных сегментов(точек)"
   ]
  },
  {
   "cell_type": "code",
   "execution_count": 84,
   "metadata": {},
   "outputs": [
    {
     "name": "stdout",
     "output_type": "stream",
     "text": [
      "1182.0\n",
      "1.0387447468996453e-12\n",
      "Средние не равны\n",
      "\n",
      "1178.0\n",
      "0.1251217226713009\n",
      "Средние равны\n",
      "\n",
      "1179.0\n",
      "0.2617037465196552\n",
      "Средние равны\n",
      "\n"
     ]
    }
   ],
   "source": [
    "point=[1178, 1179, 1182] # можно провести тесты как выше по каждому сегменту с помощью самописных функций из 1 задания, но будет более энергозатратно\n",
    "for i in df['id_point'].unique():\n",
    "    if i in point:\n",
    "        print(i)\n",
    "        s, p = ttest_ind(df[(df['id_point']== i) & (df['id_group']=='control')]['sum_pay'], \n",
    "                         df[(df['id_point']== i) & (df['id_group']== 'test')]['sum_pay'])\n",
    "        print (p)\n",
    "        if p<=0.05:\n",
    "            print ('Средние не равны')\n",
    "            print() \n",
    "        else:\n",
    "            print ('Средние равны')\n",
    "            print() "
   ]
  },
  {
   "cell_type": "markdown",
   "metadata": {},
   "source": [
    "Средние равны в сегменте  1882, 0"
   ]
  },
  {
   "cell_type": "markdown",
   "metadata": {},
   "source": [
    "# Далее проведем тест Мана - Уитни для выбранных сегментов (точек)"
   ]
  },
  {
   "cell_type": "code",
   "execution_count": 94,
   "metadata": {},
   "outputs": [
    {
     "name": "stdout",
     "output_type": "stream",
     "text": [
      "1182.0\n",
      "382818.5 5.946812205351181e-15\n",
      "Распределения не равны\n",
      "\n",
      "1178.0\n",
      "3122337.5 1.5133330174771163e-06\n",
      "Распределения не равны\n",
      "\n",
      "1179.0\n",
      "1447666.5 0.2580763851815786\n",
      "Распределения равны\n",
      "\n"
     ]
    }
   ],
   "source": [
    "point=[1178, 1179, 1182]\n",
    "\n",
    "for i in df['id_point'].unique():\n",
    "    if i in point:\n",
    "        print(i)\n",
    "        s, p = stats.mannwhitneyu(df[(df['id_point']== i) & (df['id_group']=='control')]['sum_pay'],\n",
    "                                  df[(df['id_point']== i) & (df['id_group']== 'test')]['sum_pay'])\n",
    "        print(s, p)\n",
    "        if p<=0.05:\n",
    "            print ('Распределения не равны')\n",
    "            print()\n",
    "        else:\n",
    "            print ('Распределения равны')\n",
    "            print()"
   ]
  },
  {
   "cell_type": "code",
   "execution_count": 88,
   "metadata": {},
   "outputs": [],
   "source": [
    "from scipy.stats import pearsonr\n",
    "from scipy.stats import spearmanr\n"
   ]
  },
  {
   "cell_type": "code",
   "execution_count": 89,
   "metadata": {},
   "outputs": [
    {
     "name": "stderr",
     "output_type": "stream",
     "text": [
      "C:\\Users\\vkoma\\anaconda3\\lib\\site-packages\\seaborn\\_decorators.py:36: FutureWarning: Pass the following variables as keyword args: x, y. From version 0.12, the only valid positional argument will be `data`, and passing other arguments without an explicit keyword will result in an error or misinterpretation.\n",
      "  warnings.warn(\n"
     ]
    },
    {
     "data": {
      "text/plain": [
       "Text(0.5, 1.0, 'Корреляция размера платежа и длительности жизни клиента')"
      ]
     },
     "execution_count": 89,
     "metadata": {},
     "output_type": "execute_result"
    },
    {
     "data": {
      "image/png": "[encoded data removed]",
      "text/plain": [
       "<Figure size 842.4x595.44 with 1 Axes>"
      ]
     },
     "metadata": {},
     "output_type": "display_data"
    }
   ],
   "source": [
    "sns.scatterplot(df['sum_pay'], df['months_reg']).set_title(\"Корреляция размера платежа и длительности жизни клиента\")"
   ]
  },
  {
   "cell_type": "code",
   "execution_count": 90,
   "metadata": {},
   "outputs": [
    {
     "name": "stdout",
     "output_type": "stream",
     "text": [
      "Pearson (0.598276252133036, 0.0)\n",
      "Spearman SpearmanrResult(correlation=0.6520008575703581, pvalue=0.0)\n"
     ]
    }
   ],
   "source": [
    "print(\"Pearson\", pearsonr(df['sum_pay'],df['months_reg']))\n",
    "print(\"Spearman\", spearmanr(df['sum_pay'],df['months_reg']))"
   ]
  },
  {
   "cell_type": "code",
   "execution_count": null,
   "metadata": {},
   "outputs": [],
   "source": []
  }
 ],
 "metadata": {
  "kernelspec": {
   "display_name": "Python 3 (ipykernel)",
   "language": "python",
   "name": "python3"
  },
  "language_info": {
   "codemirror_mode": {
    "name": "ipython",
    "version": 3
   },
   "file_extension": ".py",
   "mimetype": "text/x-python",
   "name": "python",
   "nbconvert_exporter": "python",
   "pygments_lexer": "ipython3",
   "version": "3.9.12"
  }
 },
 "nbformat": 4,
 "nbformat_minor": 2
}
